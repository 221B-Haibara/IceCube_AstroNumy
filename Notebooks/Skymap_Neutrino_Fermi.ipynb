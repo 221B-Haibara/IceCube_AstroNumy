{
 "cells": [
  {
   "cell_type": "code",
   "execution_count": null,
   "metadata": {
    "collapsed": false
   },
   "outputs": [],
   "source": [
    "%pylab inline\n",
    "\n",
    "import healpy\n",
    "import matplotlib as mpl\n",
    "import os\n",
    "import pandas as pd\n",
    "\n",
    "import pyslalib\n",
    "from pyslalib import slalib\n",
    "\n",
    "\n",
    "mpl.rcParams[\"savefig.dpi\"] = 300\n",
    "mpl.rcParams[\"figure.dpi\"] = 150 # this is for displaying\n",
    "\n",
    "pi = np.pi\n"
   ]
  },
  {
   "cell_type": "code",
   "execution_count": null,
   "metadata": {
    "collapsed": false
   },
   "outputs": [],
   "source": [
    "\n",
    "\n",
    "fermi  = pd.read_csv(\"../Resources/LightCurve/3FGL_pos.txt\",delimiter=\"\\t\")\n",
    "import sys\n",
    "sys.path.append(\"../code/\")\n",
    "from neutrino import NuDist"
   ]
  },
  {
   "cell_type": "code",
   "execution_count": null,
   "metadata": {
    "collapsed": false
   },
   "outputs": [],
   "source": [
    "fig = plt.figure (1, figsize = (5.2, 3))\n",
    "healpy.mollview (None, coord='C', rot=180, cbar=False, title='', fig=1)\n",
    "healpy.graticule (color=\"gray\")\n",
    "\n",
    "# plot the galactic plane and center\n",
    "\n",
    "galat = np.linspace (0, 2*pi, 1e3)\n",
    "galon = pi/2*np.ones_like (galat)\n",
    "\n",
    "healpy.projplot (\n",
    "    galon, galat,\n",
    "    coord='GC', color='blue', lw=2, zorder=4\n",
    ")\n",
    "healpy.projscatter (pi/2, 0, coord='GC', color='.5')\n",
    "#fig.gca().scatter(galon/pi, galat/pi, color=\"blue\")\n",
    "\n",
    "# plot the supergalactic plane   \n",
    "superlon = np.linspace (0, 2*pi, 1e3)\n",
    "superlat = 0*pi*np.ones_like (superlon)\n",
    "#superlon = np.linspace (0, 360., 1e3)\n",
    "#superlat = 90.*np.ones_like (superlon)\n",
    "#superlon, superlat = np.linspace(0., 360., 1001), np.zeros(1001)\n",
    "supgal = np.vectorize(slalib.sla_supgal)\n",
    "lon, lat = supgal(superlon, superlat)   \n",
    "\n",
    "#fig.gca().scatter(lon/pi, lat/pi, color=\"r\")\n",
    "healpy.projplot (\n",
    "        #lat_e, lon_e,\n",
    "        lat-pi/2, lon+pi,\n",
    "        coord='GC', color='r', lw=2, zorder=2 # this coord is supposed to be the coord system the POINTS ARE IN. in our case it would be supergal coords...\n",
    "    )\n",
    "\n",
    "\n",
    "healpy.projscatter(np.radians(fermi.dec-90.), np.radians(fermi.ra+180.), coord=\"C\",alpha=0.9,s=3,zorder=10\n",
    "                   )\n",
    "\n",
    "plt.grid(False)\n"
   ]
  },
  {
   "cell_type": "code",
   "execution_count": null,
   "metadata": {
    "collapsed": false
   },
   "outputs": [],
   "source": [
    "nudist = NuDist()\n",
    "nu = nudist.get_random(1000).T\n",
    "ra = nu[0]\n",
    "dec = nu[1]"
   ]
  },
  {
   "cell_type": "code",
   "execution_count": null,
   "metadata": {
    "collapsed": false
   },
   "outputs": [],
   "source": [
    "fig = plt.figure (1, figsize = (5.2, 3))\n",
    "healpy.mollview (None, coord='C', rot=180, cbar=False, title='', fig=1)\n",
    "healpy.graticule (color=\"gray\")\n",
    "\n",
    "\n",
    "healpy.projplot (\n",
    "        #lat_e, lon_e,\n",
    "        lat-pi/2, lon+pi,\n",
    "        coord='GC', color='r', lw=2, zorder=2 # this coord is supposed to be the coord system the POINTS ARE IN. in our case it would be supergal coords...\n",
    "    )\n",
    "\n",
    "\n",
    "healpy.projscatter(np.radians(dec-90.), np.radians(ra+180.), coord=\"C\",alpha=0.9,s=3,zorder=10)"
   ]
  },
  {
   "cell_type": "code",
   "execution_count": null,
   "metadata": {
    "collapsed": false
   },
   "outputs": [],
   "source": [
    "angular_res = 0.5\n",
    "within_res = []\n",
    "for nu in nudist.get_random(10000):\n",
    "    ra,dec = nu\n",
    "    ra_sel = (fermi.ra>ra-angular_res) & (fermi.ra<ra+angular_res)\n",
    "    dec_sel = (fermi.dec>dec-angular_res) & (fermi.dec<dec+angular_res)\n",
    "    within_res.append(len(fermi[ra_sel & dec_sel]))\n",
    "    \n",
    "    "
   ]
  },
  {
   "cell_type": "code",
   "execution_count": null,
   "metadata": {
    "collapsed": false
   },
   "outputs": [],
   "source": [
    "plt.hist(within_res)"
   ]
  },
  {
   "cell_type": "code",
   "execution_count": null,
   "metadata": {
    "collapsed": true
   },
   "outputs": [],
   "source": []
  }
 ],
 "metadata": {
  "kernelspec": {
   "display_name": "Python 2",
   "language": "python",
   "name": "python2"
  },
  "language_info": {
   "codemirror_mode": {
    "name": "ipython",
    "version": 2
   },
   "file_extension": ".py",
   "mimetype": "text/x-python",
   "name": "python",
   "nbconvert_exporter": "python",
   "pygments_lexer": "ipython2",
   "version": "2.7.6"
  }
 },
 "nbformat": 4,
 "nbformat_minor": 0
}
